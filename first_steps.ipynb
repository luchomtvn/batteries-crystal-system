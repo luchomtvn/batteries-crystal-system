{
 "cells": [
  {
   "cell_type": "code",
   "execution_count": 1,
   "metadata": {},
   "outputs": [],
   "source": [
    "import pandas as pd\n",
    "import matplotlib.pyplot as plt\n",
    "import numpy as np"
   ]
  },
  {
   "cell_type": "code",
   "execution_count": 17,
   "metadata": {},
   "outputs": [
    {
     "name": "stdout",
     "output_type": "stream",
     "text": [
      "<class 'pandas.core.frame.DataFrame'>\n",
      "RangeIndex: 339 entries, 0 to 338\n",
      "Data columns (total 11 columns):\n",
      " #   Column                 Non-Null Count  Dtype  \n",
      "---  ------                 --------------  -----  \n",
      " 0   Materials Id           339 non-null    object \n",
      " 1   Formula                339 non-null    object \n",
      " 2   Spacegroup             339 non-null    object \n",
      " 3   Formation Energy (eV)  339 non-null    float64\n",
      " 4   E Above Hull (eV)      339 non-null    float64\n",
      " 5   Band Gap (eV)          339 non-null    float64\n",
      " 6   Nsites                 339 non-null    int64  \n",
      " 7   Density (gm/cc)        339 non-null    float64\n",
      " 8   Volume                 339 non-null    float64\n",
      " 9   Has Bandstructure      339 non-null    bool   \n",
      " 10  Crystal System         339 non-null    object \n",
      "dtypes: bool(1), float64(5), int64(1), object(4)\n",
      "memory usage: 26.9+ KB\n"
     ]
    }
   ],
   "source": [
    "batteries = pd.read_csv(\"lithium-ion batteries.csv\")\n",
    "batteries.info()"
   ]
  },
  {
   "cell_type": "markdown",
   "metadata": {},
   "source": [
    "### Features\n",
    "- Materials Id: The unique ID of the material as stated on materialsproject.org\n",
    "- Formula: Chemical formula of the material\n",
    "- Spacegroup: ?\n",
    "- Formation Energy (eV): ?\n",
    "- E Above Hull (eV): Energy if decomposition of material into most stable ones\n",
    "- Band Gap (eV): \n",
    "- Nsites: Number of atoms in the unit cell of the crystal\n",
    "- Density (gm/cc)': The density of bulk crystalline materials\n",
    "- Volume: The unit cell volume of the material\n",
    "- Has Bandstructure: Boolean variable for bandstructure\n",
    "### Target\n",
    "- Crystal System: The targe variable"
   ]
  },
  {
   "cell_type": "code",
   "execution_count": 20,
   "metadata": {},
   "outputs": [
    {
     "data": {
      "text/plain": [
       "Index(['Materials Id', 'Formula', 'Spacegroup', 'Formation Energy (eV)',\n",
       "       'E Above Hull (eV)', 'Band Gap (eV)', 'Nsites', 'Density (gm/cc)',\n",
       "       'Volume', 'Has Bandstructure', 'Crystal System'],\n",
       "      dtype='object')"
      ]
     },
     "execution_count": 20,
     "metadata": {},
     "output_type": "execute_result"
    }
   ],
   "source": [
    "batteries.columns"
   ]
  },
  {
   "cell_type": "code",
   "execution_count": 18,
   "metadata": {},
   "outputs": [
    {
     "data": {
      "text/html": [
       "<div>\n",
       "<style scoped>\n",
       "    .dataframe tbody tr th:only-of-type {\n",
       "        vertical-align: middle;\n",
       "    }\n",
       "\n",
       "    .dataframe tbody tr th {\n",
       "        vertical-align: top;\n",
       "    }\n",
       "\n",
       "    .dataframe thead th {\n",
       "        text-align: right;\n",
       "    }\n",
       "</style>\n",
       "<table border=\"1\" class=\"dataframe\">\n",
       "  <thead>\n",
       "    <tr style=\"text-align: right;\">\n",
       "      <th></th>\n",
       "      <th>Materials Id</th>\n",
       "      <th>Formula</th>\n",
       "      <th>Spacegroup</th>\n",
       "      <th>Formation Energy (eV)</th>\n",
       "      <th>E Above Hull (eV)</th>\n",
       "      <th>Band Gap (eV)</th>\n",
       "      <th>Nsites</th>\n",
       "      <th>Density (gm/cc)</th>\n",
       "      <th>Volume</th>\n",
       "      <th>Has Bandstructure</th>\n",
       "      <th>Crystal System</th>\n",
       "    </tr>\n",
       "  </thead>\n",
       "  <tbody>\n",
       "    <tr>\n",
       "      <th>0</th>\n",
       "      <td>mp-849394</td>\n",
       "      <td>Li2MnSiO4</td>\n",
       "      <td>Pc</td>\n",
       "      <td>-2.699</td>\n",
       "      <td>0.006</td>\n",
       "      <td>3.462</td>\n",
       "      <td>16</td>\n",
       "      <td>2.993</td>\n",
       "      <td>178.513</td>\n",
       "      <td>True</td>\n",
       "      <td>monoclinic</td>\n",
       "    </tr>\n",
       "    <tr>\n",
       "      <th>1</th>\n",
       "      <td>mp-783909</td>\n",
       "      <td>Li2MnSiO4</td>\n",
       "      <td>P21/c</td>\n",
       "      <td>-2.696</td>\n",
       "      <td>0.008</td>\n",
       "      <td>2.879</td>\n",
       "      <td>32</td>\n",
       "      <td>2.926</td>\n",
       "      <td>365.272</td>\n",
       "      <td>True</td>\n",
       "      <td>monoclinic</td>\n",
       "    </tr>\n",
       "    <tr>\n",
       "      <th>2</th>\n",
       "      <td>mp-761311</td>\n",
       "      <td>Li4MnSi2O7</td>\n",
       "      <td>Cc</td>\n",
       "      <td>-2.775</td>\n",
       "      <td>0.012</td>\n",
       "      <td>3.653</td>\n",
       "      <td>28</td>\n",
       "      <td>2.761</td>\n",
       "      <td>301.775</td>\n",
       "      <td>True</td>\n",
       "      <td>monoclinic</td>\n",
       "    </tr>\n",
       "    <tr>\n",
       "      <th>3</th>\n",
       "      <td>mp-761598</td>\n",
       "      <td>Li4Mn2Si3O10</td>\n",
       "      <td>C2/c</td>\n",
       "      <td>-2.783</td>\n",
       "      <td>0.013</td>\n",
       "      <td>3.015</td>\n",
       "      <td>38</td>\n",
       "      <td>2.908</td>\n",
       "      <td>436.183</td>\n",
       "      <td>True</td>\n",
       "      <td>monoclinic</td>\n",
       "    </tr>\n",
       "    <tr>\n",
       "      <th>4</th>\n",
       "      <td>mp-767709</td>\n",
       "      <td>Li2Mn3Si3O10</td>\n",
       "      <td>C2/c</td>\n",
       "      <td>-2.747</td>\n",
       "      <td>0.016</td>\n",
       "      <td>2.578</td>\n",
       "      <td>36</td>\n",
       "      <td>3.334</td>\n",
       "      <td>421.286</td>\n",
       "      <td>True</td>\n",
       "      <td>monoclinic</td>\n",
       "    </tr>\n",
       "  </tbody>\n",
       "</table>\n",
       "</div>"
      ],
      "text/plain": [
       "  Materials Id       Formula Spacegroup  Formation Energy (eV)  \\\n",
       "0    mp-849394     Li2MnSiO4         Pc                 -2.699   \n",
       "1    mp-783909     Li2MnSiO4      P21/c                 -2.696   \n",
       "2    mp-761311    Li4MnSi2O7         Cc                 -2.775   \n",
       "3    mp-761598  Li4Mn2Si3O10       C2/c                 -2.783   \n",
       "4    mp-767709  Li2Mn3Si3O10       C2/c                 -2.747   \n",
       "\n",
       "   E Above Hull (eV)  Band Gap (eV)  Nsites  Density (gm/cc)   Volume  \\\n",
       "0              0.006          3.462      16            2.993  178.513   \n",
       "1              0.008          2.879      32            2.926  365.272   \n",
       "2              0.012          3.653      28            2.761  301.775   \n",
       "3              0.013          3.015      38            2.908  436.183   \n",
       "4              0.016          2.578      36            3.334  421.286   \n",
       "\n",
       "   Has Bandstructure Crystal System  \n",
       "0               True     monoclinic  \n",
       "1               True     monoclinic  \n",
       "2               True     monoclinic  \n",
       "3               True     monoclinic  \n",
       "4               True     monoclinic  "
      ]
     },
     "execution_count": 18,
     "metadata": {},
     "output_type": "execute_result"
    }
   ],
   "source": [
    "batteries.head(5)"
   ]
  },
  {
   "cell_type": "code",
   "execution_count": 23,
   "metadata": {},
   "outputs": [
    {
     "data": {
      "text/html": [
       "<div>\n",
       "<style scoped>\n",
       "    .dataframe tbody tr th:only-of-type {\n",
       "        vertical-align: middle;\n",
       "    }\n",
       "\n",
       "    .dataframe tbody tr th {\n",
       "        vertical-align: top;\n",
       "    }\n",
       "\n",
       "    .dataframe thead th {\n",
       "        text-align: right;\n",
       "    }\n",
       "</style>\n",
       "<table border=\"1\" class=\"dataframe\">\n",
       "  <thead>\n",
       "    <tr style=\"text-align: right;\">\n",
       "      <th></th>\n",
       "      <th>mat_id</th>\n",
       "      <th>formula</th>\n",
       "      <th>spacegroup</th>\n",
       "      <th>form_e</th>\n",
       "      <th>above_hull_e</th>\n",
       "      <th>band_gap_e</th>\n",
       "      <th>n_sites</th>\n",
       "      <th>density</th>\n",
       "      <th>volume</th>\n",
       "      <th>has_bandstr</th>\n",
       "      <th>crystal_system</th>\n",
       "    </tr>\n",
       "  </thead>\n",
       "  <tbody>\n",
       "    <tr>\n",
       "      <th>0</th>\n",
       "      <td>mp-849394</td>\n",
       "      <td>Li2MnSiO4</td>\n",
       "      <td>Pc</td>\n",
       "      <td>-2.699</td>\n",
       "      <td>0.006</td>\n",
       "      <td>3.462</td>\n",
       "      <td>16</td>\n",
       "      <td>2.993</td>\n",
       "      <td>178.513</td>\n",
       "      <td>True</td>\n",
       "      <td>monoclinic</td>\n",
       "    </tr>\n",
       "    <tr>\n",
       "      <th>1</th>\n",
       "      <td>mp-783909</td>\n",
       "      <td>Li2MnSiO4</td>\n",
       "      <td>P21/c</td>\n",
       "      <td>-2.696</td>\n",
       "      <td>0.008</td>\n",
       "      <td>2.879</td>\n",
       "      <td>32</td>\n",
       "      <td>2.926</td>\n",
       "      <td>365.272</td>\n",
       "      <td>True</td>\n",
       "      <td>monoclinic</td>\n",
       "    </tr>\n",
       "    <tr>\n",
       "      <th>2</th>\n",
       "      <td>mp-761311</td>\n",
       "      <td>Li4MnSi2O7</td>\n",
       "      <td>Cc</td>\n",
       "      <td>-2.775</td>\n",
       "      <td>0.012</td>\n",
       "      <td>3.653</td>\n",
       "      <td>28</td>\n",
       "      <td>2.761</td>\n",
       "      <td>301.775</td>\n",
       "      <td>True</td>\n",
       "      <td>monoclinic</td>\n",
       "    </tr>\n",
       "    <tr>\n",
       "      <th>3</th>\n",
       "      <td>mp-761598</td>\n",
       "      <td>Li4Mn2Si3O10</td>\n",
       "      <td>C2/c</td>\n",
       "      <td>-2.783</td>\n",
       "      <td>0.013</td>\n",
       "      <td>3.015</td>\n",
       "      <td>38</td>\n",
       "      <td>2.908</td>\n",
       "      <td>436.183</td>\n",
       "      <td>True</td>\n",
       "      <td>monoclinic</td>\n",
       "    </tr>\n",
       "    <tr>\n",
       "      <th>4</th>\n",
       "      <td>mp-767709</td>\n",
       "      <td>Li2Mn3Si3O10</td>\n",
       "      <td>C2/c</td>\n",
       "      <td>-2.747</td>\n",
       "      <td>0.016</td>\n",
       "      <td>2.578</td>\n",
       "      <td>36</td>\n",
       "      <td>3.334</td>\n",
       "      <td>421.286</td>\n",
       "      <td>True</td>\n",
       "      <td>monoclinic</td>\n",
       "    </tr>\n",
       "  </tbody>\n",
       "</table>\n",
       "</div>"
      ],
      "text/plain": [
       "      mat_id       formula spacegroup  form_e  above_hull_e  band_gap_e  \\\n",
       "0  mp-849394     Li2MnSiO4         Pc  -2.699         0.006       3.462   \n",
       "1  mp-783909     Li2MnSiO4      P21/c  -2.696         0.008       2.879   \n",
       "2  mp-761311    Li4MnSi2O7         Cc  -2.775         0.012       3.653   \n",
       "3  mp-761598  Li4Mn2Si3O10       C2/c  -2.783         0.013       3.015   \n",
       "4  mp-767709  Li2Mn3Si3O10       C2/c  -2.747         0.016       2.578   \n",
       "\n",
       "   n_sites  density   volume  has_bandstr crystal_system  \n",
       "0       16    2.993  178.513         True     monoclinic  \n",
       "1       32    2.926  365.272         True     monoclinic  \n",
       "2       28    2.761  301.775         True     monoclinic  \n",
       "3       38    2.908  436.183         True     monoclinic  \n",
       "4       36    3.334  421.286         True     monoclinic  "
      ]
     },
     "execution_count": 23,
     "metadata": {},
     "output_type": "execute_result"
    }
   ],
   "source": [
    "# Column names are uncomfortable, so i decided to rename them\n",
    "mapper = {'Materials Id': 'mat_id',\n",
    "'Formula': 'formula',\n",
    "'Spacegroup': 'spacegroup',\n",
    "'Formation Energy (eV)': 'form_e',\n",
    "'E Above Hull (eV)': 'above_hull_e',\n",
    "'Band Gap (eV)': 'band_gap_e',\n",
    "'Nsites': 'n_sites',\n",
    "'Density (gm/cc)': 'density',\n",
    "'Volume': 'volume',\n",
    "'Has Bandstructure': 'has_bandstr',\n",
    "'Crystal System': 'crystal_system'}\n",
    "df = batteries.rename(columns=mapper)\n",
    "df.head(5)"
   ]
  },
  {
   "cell_type": "markdown",
   "metadata": {},
   "source": [
    "Let's start by visualizing the data with a few distribution plots."
   ]
  },
  {
   "cell_type": "code",
   "execution_count": 46,
   "metadata": {},
   "outputs": [
    {
     "data": {
      "image/png": "[encoded data removed]",
      "text/plain": [
       "<Figure size 1440x1080 with 6 Axes>"
      ]
     },
     "metadata": {
      "needs_background": "light"
     },
     "output_type": "display_data"
    }
   ],
   "source": [
    "numerical = ['form_e', 'above_hull_e', 'band_gap_e', 'n_sites', 'density', 'volume']\n",
    "fig = plt.figure(figsize=(20,15))\n",
    "for i, ft in enumerate(numerical):\n",
    "    ax = fig.add_subplot(3,3,i+1)\n",
    "    ax.hist(df[ft], bins=100)\n",
    "    ax.set_title(numerical[i])\n",
    "    plt.grid(visible=True, linestyle='--', linewidth=1, alpha=0.3)\n",
    "plt.show()"
   ]
  },
  {
   "cell_type": "code",
   "execution_count": null,
   "metadata": {},
   "outputs": [],
   "source": []
  }
 ],
 "metadata": {
  "kernelspec": {
   "display_name": "Python 3.9.7 ('neoland')",
   "language": "python",
   "name": "python3"
  },
  "language_info": {
   "codemirror_mode": {
    "name": "ipython",
    "version": 3
   },
   "file_extension": ".py",
   "mimetype": "text/x-python",
   "name": "python",
   "nbconvert_exporter": "python",
   "pygments_lexer": "ipython3",
   "version": "3.9.7"
  },
  "orig_nbformat": 4,
  "vscode": {
   "interpreter": {
    "hash": "13aa3a90a5e641235fea1601ecd5c89f84592ee55de82aab0f64a36e64690c8c"
   }
  }
 },
 "nbformat": 4,
 "nbformat_minor": 2
}
