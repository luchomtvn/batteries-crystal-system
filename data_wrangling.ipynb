{
 "cells": [
  {
   "cell_type": "code",
   "execution_count": 2,
   "metadata": {},
   "outputs": [],
   "source": [
    "import pandas as pd\n",
    "import matplotlib.pyplot as plt\n",
    "import numpy as np\n",
    "import seaborn as sns"
   ]
  },
  {
   "cell_type": "code",
   "execution_count": 3,
   "metadata": {},
   "outputs": [],
   "source": [
    "batteries = pd.read_csv(\"lithium-ion batteries.csv\")"
   ]
  },
  {
   "cell_type": "code",
   "execution_count": 4,
   "metadata": {},
   "outputs": [],
   "source": [
    "# Column names are uncomfortable, so i decided to rename them\n",
    "mapper = {'Materials Id': 'mat_id',\n",
    "'Formula': 'formula',\n",
    "'Spacegroup': 'spacegroup',\n",
    "'Formation Energy (eV)': 'form_e',\n",
    "'E Above Hull (eV)': 'above_hull_e',\n",
    "'Band Gap (eV)': 'band_gap_e',\n",
    "'Nsites': 'n_sites',\n",
    "'Density (gm/cc)': 'density',\n",
    "'Volume': 'volume',\n",
    "'Has Bandstructure': 'has_bandstr',\n",
    "'Crystal System': 'crystal_system'}\n",
    "df = batteries.rename(columns=mapper)"
   ]
  },
  {
   "cell_type": "code",
   "execution_count": 5,
   "metadata": {},
   "outputs": [],
   "source": [
    "df.drop(axis=1, columns=['mat_id'], inplace=True)"
   ]
  },
  {
   "cell_type": "code",
   "execution_count": 6,
   "metadata": {},
   "outputs": [
    {
     "data": {
      "text/html": [
       "<div>\n",
       "<style scoped>\n",
       "    .dataframe tbody tr th:only-of-type {\n",
       "        vertical-align: middle;\n",
       "    }\n",
       "\n",
       "    .dataframe tbody tr th {\n",
       "        vertical-align: top;\n",
       "    }\n",
       "\n",
       "    .dataframe thead th {\n",
       "        text-align: right;\n",
       "    }\n",
       "</style>\n",
       "<table border=\"1\" class=\"dataframe\">\n",
       "  <thead>\n",
       "    <tr style=\"text-align: right;\">\n",
       "      <th></th>\n",
       "      <th>formula</th>\n",
       "      <th>spacegroup</th>\n",
       "      <th>form_e</th>\n",
       "      <th>above_hull_e</th>\n",
       "      <th>band_gap_e</th>\n",
       "      <th>n_sites</th>\n",
       "      <th>density</th>\n",
       "      <th>volume</th>\n",
       "      <th>has_bandstr</th>\n",
       "      <th>crystal_system</th>\n",
       "    </tr>\n",
       "  </thead>\n",
       "  <tbody>\n",
       "    <tr>\n",
       "      <th>0</th>\n",
       "      <td>Li2MnSiO4</td>\n",
       "      <td>Pc</td>\n",
       "      <td>-2.699</td>\n",
       "      <td>0.006</td>\n",
       "      <td>3.462</td>\n",
       "      <td>16</td>\n",
       "      <td>2.993</td>\n",
       "      <td>178.513</td>\n",
       "      <td>True</td>\n",
       "      <td>monoclinic</td>\n",
       "    </tr>\n",
       "    <tr>\n",
       "      <th>1</th>\n",
       "      <td>Li2MnSiO4</td>\n",
       "      <td>P21/c</td>\n",
       "      <td>-2.696</td>\n",
       "      <td>0.008</td>\n",
       "      <td>2.879</td>\n",
       "      <td>32</td>\n",
       "      <td>2.926</td>\n",
       "      <td>365.272</td>\n",
       "      <td>True</td>\n",
       "      <td>monoclinic</td>\n",
       "    </tr>\n",
       "    <tr>\n",
       "      <th>2</th>\n",
       "      <td>Li4MnSi2O7</td>\n",
       "      <td>Cc</td>\n",
       "      <td>-2.775</td>\n",
       "      <td>0.012</td>\n",
       "      <td>3.653</td>\n",
       "      <td>28</td>\n",
       "      <td>2.761</td>\n",
       "      <td>301.775</td>\n",
       "      <td>True</td>\n",
       "      <td>monoclinic</td>\n",
       "    </tr>\n",
       "    <tr>\n",
       "      <th>3</th>\n",
       "      <td>Li4Mn2Si3O10</td>\n",
       "      <td>C2/c</td>\n",
       "      <td>-2.783</td>\n",
       "      <td>0.013</td>\n",
       "      <td>3.015</td>\n",
       "      <td>38</td>\n",
       "      <td>2.908</td>\n",
       "      <td>436.183</td>\n",
       "      <td>True</td>\n",
       "      <td>monoclinic</td>\n",
       "    </tr>\n",
       "    <tr>\n",
       "      <th>4</th>\n",
       "      <td>Li2Mn3Si3O10</td>\n",
       "      <td>C2/c</td>\n",
       "      <td>-2.747</td>\n",
       "      <td>0.016</td>\n",
       "      <td>2.578</td>\n",
       "      <td>36</td>\n",
       "      <td>3.334</td>\n",
       "      <td>421.286</td>\n",
       "      <td>True</td>\n",
       "      <td>monoclinic</td>\n",
       "    </tr>\n",
       "  </tbody>\n",
       "</table>\n",
       "</div>"
      ],
      "text/plain": [
       "        formula spacegroup  form_e  above_hull_e  band_gap_e  n_sites  \\\n",
       "0     Li2MnSiO4         Pc  -2.699         0.006       3.462       16   \n",
       "1     Li2MnSiO4      P21/c  -2.696         0.008       2.879       32   \n",
       "2    Li4MnSi2O7         Cc  -2.775         0.012       3.653       28   \n",
       "3  Li4Mn2Si3O10       C2/c  -2.783         0.013       3.015       38   \n",
       "4  Li2Mn3Si3O10       C2/c  -2.747         0.016       2.578       36   \n",
       "\n",
       "   density   volume  has_bandstr crystal_system  \n",
       "0    2.993  178.513         True     monoclinic  \n",
       "1    2.926  365.272         True     monoclinic  \n",
       "2    2.761  301.775         True     monoclinic  \n",
       "3    2.908  436.183         True     monoclinic  \n",
       "4    3.334  421.286         True     monoclinic  "
      ]
     },
     "execution_count": 6,
     "metadata": {},
     "output_type": "execute_result"
    }
   ],
   "source": [
    "# df to export\n",
    "df.head(5)"
   ]
  },
  {
   "cell_type": "code",
   "execution_count": 7,
   "metadata": {},
   "outputs": [],
   "source": [
    "df.to_csv(\"unmodified.csv\")"
   ]
  },
  {
   "cell_type": "code",
   "execution_count": null,
   "metadata": {},
   "outputs": [],
   "source": []
  }
 ],
 "metadata": {
  "kernelspec": {
   "display_name": "Python 3.9.7 ('neoland')",
   "language": "python",
   "name": "python3"
  },
  "language_info": {
   "codemirror_mode": {
    "name": "ipython",
    "version": 3
   },
   "file_extension": ".py",
   "mimetype": "text/x-python",
   "name": "python",
   "nbconvert_exporter": "python",
   "pygments_lexer": "ipython3",
   "version": "3.9.7"
  },
  "orig_nbformat": 4,
  "vscode": {
   "interpreter": {
    "hash": "13aa3a90a5e641235fea1601ecd5c89f84592ee55de82aab0f64a36e64690c8c"
   }
  }
 },
 "nbformat": 4,
 "nbformat_minor": 2
}
